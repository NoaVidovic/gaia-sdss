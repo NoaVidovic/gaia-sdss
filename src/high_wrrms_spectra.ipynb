{
 "cells": [
  {
   "cell_type": "code",
   "execution_count": 1,
   "id": "48fb315a",
   "metadata": {},
   "outputs": [],
   "source": [
    "import matplotlib.pyplot as plt\n",
    "import numpy as np\n",
    "import os\n",
    "import pandas as pd\n",
    "\n",
    "from tqdm import tqdm\n",
    "\n",
    "from show_spectra import plot_spectra"
   ]
  },
  {
   "cell_type": "code",
   "execution_count": 2,
   "id": "0ec4d3be",
   "metadata": {},
   "outputs": [],
   "source": [
    "import warnings\n",
    "warnings.filterwarnings(\"ignore\", category=np.VisibleDeprecationWarning) "
   ]
  },
  {
   "cell_type": "code",
   "execution_count": 3,
   "id": "60583a65",
   "metadata": {},
   "outputs": [],
   "source": [
    "DF = pd.read_csv('../data/main_table.csv')\n",
    "DF = DF.loc[DF.w_median.notnull()]\n",
    "Q_MEDIAN = np.load('../data/q_median.npy')\n",
    "DATA_PATH = '../data/spectra'\n",
    "\n",
    "# is_nonvar = DF.nonvar_match_num == 1\n",
    "# is_var    = DF.var_match_num == 1\n",
    "# is_quasar = DF.quasar_match_num == 1\n",
    "\n",
    "# nonvar_subset = DF[is_nonvar & ~is_var & ~is_quasar]\n",
    "# var_subset    = DF[~is_nonvar & is_var & ~is_quasar]\n",
    "# quasar_subset = DF[~is_nonvar & ~is_var & is_quasar]"
   ]
  },
  {
   "cell_type": "code",
   "execution_count": 4,
   "id": "040bdc2a",
   "metadata": {},
   "outputs": [],
   "source": [
    "LIM_MODE_RMS_UPPER = 0.065\n",
    "LIM_MODE_MED_LOWER = 0.66\n",
    "LIM_MODE_MED_UPPER = 0.79\n",
    "LIM_RMS_LOWER = 0.1\n",
    "LIM_RMS_UPPER = 0.2"
   ]
  },
  {
   "cell_type": "code",
   "execution_count": 5,
   "id": "197988ca",
   "metadata": {},
   "outputs": [],
   "source": [
    "def line(p1, p2):\n",
    "    x1, y1 = p1\n",
    "    x2, y2 = p2\n",
    "    a = (y2-y1)/(x2-x1)\n",
    "    b = y1 - a*x1\n",
    "    return lambda x: a * x + b\n",
    "\n",
    "def cc_region(df):\n",
    "    line_lower = line((0.7, 0.1), (3.7, 1.5))\n",
    "    line_upper = line((0.7, 0.5), (2.0, 1.1))\n",
    "    x = df['psfMag_u'] - df['psfMag_g']\n",
    "    y = df['psfMag_g'] - df['psfMag_r']\n",
    "    \n",
    "    lux, llx = line_upper(x), line_lower(x)\n",
    "    \n",
    "    conditions = [\n",
    "        (x < 0.7) & (y < -0.2),\n",
    "        (x < 0.7) & (-0.2 <= y) & (y <= 0.5),\n",
    "        (x < 0.7) & (y > 0.5),\n",
    "        (x < 2.0) & (y > lux),\n",
    "        (0.7 <= x) & (x <= 1.4) & (y < llx),\n",
    "        (0.7 <= x) & (x <= 1.4) & (y > llx) & (y < lux),\n",
    "        (1.4 < x) & (x < 2.0) & (y > llx) & (y < lux),\n",
    "        (x >= 2.0) & (y > llx)        \n",
    "    ]\n",
    "    choices = [ 1, 2, 3, 3, 4, 5, 6, 7 ]\n",
    "    \n",
    "    return np.select(conditions, choices, default=8)\n",
    "\n",
    "def ww_region(df):\n",
    "    x = df['w_rrms']\n",
    "    y = df['w_median']\n",
    "    is_nonvar = df.nonvar_match_num == 1\n",
    "    is_var    = df.var_match_num == 1\n",
    "    is_quasar = df.quasar_match_num == 1\n",
    "    \n",
    "    conditions = [\n",
    "        is_nonvar & ~is_var & ~is_quasar & (x > 0.1) & (x < 0.2) & (y < 0.3),\n",
    "        is_nonvar & ~is_var & ~is_quasar & (x < 0.03) & (y > 0.7) & (y < 0.8),\n",
    "        is_nonvar & ~is_var & ~is_quasar & (x > 0.15),\n",
    "        ~is_nonvar & is_var & ~is_quasar & (x > 0.10),\n",
    "        ~is_nonvar & ~is_var & is_quasar & (x > 0.10),\n",
    "        is_nonvar & ~is_var & ~is_quasar & (x < 0.02) & (y > 0.99) & (y < 1.01),\n",
    "    ]\n",
    "    choices = [ 4, 5, 1, 2, 3, 6 ]\n",
    "    \n",
    "    return np.select(conditions, choices, default=7)\n",
    "\n",
    "def ww_region_rms(df):\n",
    "    x = df['w_rrms']\n",
    "    y = df['w_median']\n",
    "    \n",
    "    conditions = [\n",
    "        (x < LIM_MODE_RMS_UPPER) & (y < LIM_MODE_MED_UPPER) & (y > LIM_MODE_MED_LOWER),\n",
    "        (x < LIM_RMS_UPPER) & (x > LIM_RMS_LOWER),\n",
    "        (x > LIM_RMS_UPPER)\n",
    "    ]\n",
    "    choices = [ 1, 2, 3 ]\n",
    "    \n",
    "    return np.select(conditions, choices, default=7)\n",
    "    \n",
    "\n",
    "cc_region_names = [ f'R_CC_{n}' for n in [ 'I', 'II', 'III', 'IV', 'Va', 'Vb', 'Vc', 'VI' ] ]\n",
    "ww_region_names = [ f'R_WW_{n}' for n in '1234567' ]\n",
    "ww_region_rms_names = [ f'R_WW_{n}' for n in '1237' ]"
   ]
  },
  {
   "cell_type": "markdown",
   "id": "dfba6f9e",
   "metadata": {},
   "source": [
    "# new"
   ]
  },
  {
   "cell_type": "code",
   "execution_count": 6,
   "id": "16114d96",
   "metadata": {},
   "outputs": [],
   "source": [
    "# DF['wwr'] = ww_region(DF)\n",
    "DF['wwr'] = ww_region_rms(DF)\n",
    "DF['ccr'] = cc_region(DF)"
   ]
  },
  {
   "cell_type": "code",
   "execution_count": 7,
   "id": "f00d3e62",
   "metadata": {},
   "outputs": [],
   "source": [
    "n = 0"
   ]
  },
  {
   "cell_type": "code",
   "execution_count": 8,
   "id": "6713e336",
   "metadata": {},
   "outputs": [
    {
     "name": "stderr",
     "output_type": "stream",
     "text": [
      "100%|██████████████████████████████████████████████████████████████████████████████████████████████████████████████████████████████████████████████████████████████████████| 12953/12953 [1:29:30<00:00,  2.41it/s]\n"
     ]
    }
   ],
   "source": [
    "# for gid, wwr, ccr in tqdm(DF[DF.wwr != 7][['source_id', 'wwr', 'ccr']].to_numpy()[n*1000:(n+1)*1000]):\n",
    "for gid, wwr, ccr in tqdm(DF[DF.wwr != 7][['source_id', 'wwr', 'ccr']].to_numpy()):\n",
    "    path = f'../figures/roi/{ww_region_names[wwr-1]}/{cc_region_names[ccr-1]}/'\n",
    "    if not os.path.exists(path):\n",
    "        os.makedirs(path)\n",
    "        \n",
    "    plot_spectra(gaia_id=gid, savefig=path, mt=DF, q_med=Q_MEDIAN, data_path=DATA_PATH)"
   ]
  },
  {
   "cell_type": "code",
   "execution_count": 7,
   "id": "df775eef",
   "metadata": {},
   "outputs": [],
   "source": [
    "uncl = DF[~(is_nonvar | is_var | is_quasar)]"
   ]
  },
  {
   "cell_type": "code",
   "execution_count": 8,
   "id": "38ac5522",
   "metadata": {},
   "outputs": [
    {
     "data": {
      "text/html": [
       "<div>\n",
       "<style scoped>\n",
       "    .dataframe tbody tr th:only-of-type {\n",
       "        vertical-align: middle;\n",
       "    }\n",
       "\n",
       "    .dataframe tbody tr th {\n",
       "        vertical-align: top;\n",
       "    }\n",
       "\n",
       "    .dataframe thead th {\n",
       "        text-align: right;\n",
       "    }\n",
       "</style>\n",
       "<table border=\"1\" class=\"dataframe\">\n",
       "  <thead>\n",
       "    <tr style=\"text-align: right;\">\n",
       "      <th></th>\n",
       "      <th>source_id</th>\n",
       "      <th>clean_sdssdr13_oid</th>\n",
       "      <th>original_ext_source_id</th>\n",
       "      <th>angular_distance</th>\n",
       "      <th>gaia_ra</th>\n",
       "      <th>gaia_dec</th>\n",
       "      <th>phot_g_mean_mag</th>\n",
       "      <th>bp_g</th>\n",
       "      <th>g_rp</th>\n",
       "      <th>objId</th>\n",
       "      <th>...</th>\n",
       "      <th>w_mean</th>\n",
       "      <th>w_std</th>\n",
       "      <th>w_median</th>\n",
       "      <th>w_rrms</th>\n",
       "      <th>D_mean</th>\n",
       "      <th>D_std</th>\n",
       "      <th>D_median</th>\n",
       "      <th>D_rrms</th>\n",
       "      <th>wwr</th>\n",
       "      <th>ccr</th>\n",
       "    </tr>\n",
       "    <tr>\n",
       "      <th>Unnamed: 0</th>\n",
       "      <th></th>\n",
       "      <th></th>\n",
       "      <th></th>\n",
       "      <th></th>\n",
       "      <th></th>\n",
       "      <th></th>\n",
       "      <th></th>\n",
       "      <th></th>\n",
       "      <th></th>\n",
       "      <th></th>\n",
       "      <th></th>\n",
       "      <th></th>\n",
       "      <th></th>\n",
       "      <th></th>\n",
       "      <th></th>\n",
       "      <th></th>\n",
       "      <th></th>\n",
       "      <th></th>\n",
       "      <th></th>\n",
       "      <th></th>\n",
       "      <th></th>\n",
       "    </tr>\n",
       "  </thead>\n",
       "  <tbody>\n",
       "    <tr>\n",
       "      <th>3</th>\n",
       "      <td>2686850112096922368</td>\n",
       "      <td>63997432</td>\n",
       "      <td>1237663456705511599</td>\n",
       "      <td>0.071691</td>\n",
       "      <td>323.518261</td>\n",
       "      <td>-0.691753</td>\n",
       "      <td>16.003223</td>\n",
       "      <td>0.421000</td>\n",
       "      <td>0.581319</td>\n",
       "      <td>1237663456705511599</td>\n",
       "      <td>...</td>\n",
       "      <td>0.761893</td>\n",
       "      <td>0.025566</td>\n",
       "      <td>0.757452</td>\n",
       "      <td>0.013946</td>\n",
       "      <td>0.238107</td>\n",
       "      <td>0.025566</td>\n",
       "      <td>0.242548</td>\n",
       "      <td>0.013946</td>\n",
       "      <td>7</td>\n",
       "      <td>6</td>\n",
       "    </tr>\n",
       "    <tr>\n",
       "      <th>74</th>\n",
       "      <td>2686622375747773568</td>\n",
       "      <td>58139427</td>\n",
       "      <td>1237656567043326051</td>\n",
       "      <td>0.054710</td>\n",
       "      <td>323.888410</td>\n",
       "      <td>-1.192175</td>\n",
       "      <td>15.584722</td>\n",
       "      <td>0.431451</td>\n",
       "      <td>0.608807</td>\n",
       "      <td>1237656567043326051</td>\n",
       "      <td>...</td>\n",
       "      <td>0.728769</td>\n",
       "      <td>0.030536</td>\n",
       "      <td>0.720564</td>\n",
       "      <td>0.035514</td>\n",
       "      <td>0.271231</td>\n",
       "      <td>0.030536</td>\n",
       "      <td>0.279436</td>\n",
       "      <td>0.035514</td>\n",
       "      <td>7</td>\n",
       "      <td>6</td>\n",
       "    </tr>\n",
       "    <tr>\n",
       "      <th>114</th>\n",
       "      <td>2686838292346697472</td>\n",
       "      <td>60682541</td>\n",
       "      <td>1237657189815353635</td>\n",
       "      <td>0.060470</td>\n",
       "      <td>323.229283</td>\n",
       "      <td>-0.970831</td>\n",
       "      <td>16.814514</td>\n",
       "      <td>0.428482</td>\n",
       "      <td>0.591326</td>\n",
       "      <td>1237657189815353635</td>\n",
       "      <td>...</td>\n",
       "      <td>0.735515</td>\n",
       "      <td>0.022913</td>\n",
       "      <td>0.729443</td>\n",
       "      <td>0.027370</td>\n",
       "      <td>0.264485</td>\n",
       "      <td>0.022913</td>\n",
       "      <td>0.270557</td>\n",
       "      <td>0.027370</td>\n",
       "      <td>7</td>\n",
       "      <td>6</td>\n",
       "    </tr>\n",
       "    <tr>\n",
       "      <th>159</th>\n",
       "      <td>2686837845670143488</td>\n",
       "      <td>60686429</td>\n",
       "      <td>1237666185626255558</td>\n",
       "      <td>0.120809</td>\n",
       "      <td>323.295130</td>\n",
       "      <td>-0.970518</td>\n",
       "      <td>14.655992</td>\n",
       "      <td>0.384148</td>\n",
       "      <td>0.557196</td>\n",
       "      <td>1237666185626255558</td>\n",
       "      <td>...</td>\n",
       "      <td>0.723543</td>\n",
       "      <td>0.021367</td>\n",
       "      <td>0.721457</td>\n",
       "      <td>0.015522</td>\n",
       "      <td>0.276457</td>\n",
       "      <td>0.021367</td>\n",
       "      <td>0.278543</td>\n",
       "      <td>0.015522</td>\n",
       "      <td>7</td>\n",
       "      <td>4</td>\n",
       "    </tr>\n",
       "    <tr>\n",
       "      <th>371</th>\n",
       "      <td>2686847844354711296</td>\n",
       "      <td>63049403</td>\n",
       "      <td>1237663478180741184</td>\n",
       "      <td>0.063926</td>\n",
       "      <td>323.440715</td>\n",
       "      <td>-0.769323</td>\n",
       "      <td>14.601306</td>\n",
       "      <td>0.400590</td>\n",
       "      <td>0.579837</td>\n",
       "      <td>1237663478180741184</td>\n",
       "      <td>...</td>\n",
       "      <td>0.745234</td>\n",
       "      <td>0.024285</td>\n",
       "      <td>0.739799</td>\n",
       "      <td>0.020740</td>\n",
       "      <td>0.254766</td>\n",
       "      <td>0.024285</td>\n",
       "      <td>0.260201</td>\n",
       "      <td>0.020740</td>\n",
       "      <td>7</td>\n",
       "      <td>5</td>\n",
       "    </tr>\n",
       "    <tr>\n",
       "      <th>...</th>\n",
       "      <td>...</td>\n",
       "      <td>...</td>\n",
       "      <td>...</td>\n",
       "      <td>...</td>\n",
       "      <td>...</td>\n",
       "      <td>...</td>\n",
       "      <td>...</td>\n",
       "      <td>...</td>\n",
       "      <td>...</td>\n",
       "      <td>...</td>\n",
       "      <td>...</td>\n",
       "      <td>...</td>\n",
       "      <td>...</td>\n",
       "      <td>...</td>\n",
       "      <td>...</td>\n",
       "      <td>...</td>\n",
       "      <td>...</td>\n",
       "      <td>...</td>\n",
       "      <td>...</td>\n",
       "      <td>...</td>\n",
       "      <td>...</td>\n",
       "    </tr>\n",
       "    <tr>\n",
       "      <th>21955</th>\n",
       "      <td>2688237347874618880</td>\n",
       "      <td>82895778</td>\n",
       "      <td>1237678617402212600</td>\n",
       "      <td>0.026591</td>\n",
       "      <td>324.342030</td>\n",
       "      <td>0.846337</td>\n",
       "      <td>17.633123</td>\n",
       "      <td>0.309515</td>\n",
       "      <td>0.479462</td>\n",
       "      <td>1237678617402212600</td>\n",
       "      <td>...</td>\n",
       "      <td>0.746271</td>\n",
       "      <td>0.026033</td>\n",
       "      <td>0.753868</td>\n",
       "      <td>0.021805</td>\n",
       "      <td>0.253729</td>\n",
       "      <td>0.026033</td>\n",
       "      <td>0.246132</td>\n",
       "      <td>0.021805</td>\n",
       "      <td>7</td>\n",
       "      <td>5</td>\n",
       "    </tr>\n",
       "    <tr>\n",
       "      <th>21972</th>\n",
       "      <td>2646228655005377792</td>\n",
       "      <td>87195647</td>\n",
       "      <td>1237678617415057435</td>\n",
       "      <td>0.155451</td>\n",
       "      <td>353.609378</td>\n",
       "      <td>1.214047</td>\n",
       "      <td>17.219310</td>\n",
       "      <td>0.242834</td>\n",
       "      <td>0.419060</td>\n",
       "      <td>1237678617415057435</td>\n",
       "      <td>...</td>\n",
       "      <td>0.733811</td>\n",
       "      <td>0.053346</td>\n",
       "      <td>0.716123</td>\n",
       "      <td>0.015630</td>\n",
       "      <td>0.266189</td>\n",
       "      <td>0.053346</td>\n",
       "      <td>0.283877</td>\n",
       "      <td>0.015630</td>\n",
       "      <td>7</td>\n",
       "      <td>5</td>\n",
       "    </tr>\n",
       "    <tr>\n",
       "      <th>22054</th>\n",
       "      <td>2688216598888416768</td>\n",
       "      <td>84185220</td>\n",
       "      <td>1237663458852864528</td>\n",
       "      <td>0.048702</td>\n",
       "      <td>323.279361</td>\n",
       "      <td>0.956930</td>\n",
       "      <td>16.549961</td>\n",
       "      <td>0.533588</td>\n",
       "      <td>0.683401</td>\n",
       "      <td>1237663458852864528</td>\n",
       "      <td>...</td>\n",
       "      <td>0.744125</td>\n",
       "      <td>0.070217</td>\n",
       "      <td>0.734538</td>\n",
       "      <td>0.016859</td>\n",
       "      <td>0.263323</td>\n",
       "      <td>0.032609</td>\n",
       "      <td>0.265766</td>\n",
       "      <td>0.016438</td>\n",
       "      <td>7</td>\n",
       "      <td>7</td>\n",
       "    </tr>\n",
       "    <tr>\n",
       "      <th>22153</th>\n",
       "      <td>2688414712845355904</td>\n",
       "      <td>87207149</td>\n",
       "      <td>1237678617938690171</td>\n",
       "      <td>0.059271</td>\n",
       "      <td>323.386724</td>\n",
       "      <td>1.215203</td>\n",
       "      <td>16.518211</td>\n",
       "      <td>0.402882</td>\n",
       "      <td>0.575798</td>\n",
       "      <td>1237678617938690171</td>\n",
       "      <td>...</td>\n",
       "      <td>0.710843</td>\n",
       "      <td>0.050568</td>\n",
       "      <td>0.737075</td>\n",
       "      <td>0.044209</td>\n",
       "      <td>0.289157</td>\n",
       "      <td>0.050568</td>\n",
       "      <td>0.262925</td>\n",
       "      <td>0.044209</td>\n",
       "      <td>7</td>\n",
       "      <td>6</td>\n",
       "    </tr>\n",
       "    <tr>\n",
       "      <th>22209</th>\n",
       "      <td>2688213953188941952</td>\n",
       "      <td>83227763</td>\n",
       "      <td>1237663458852798704</td>\n",
       "      <td>0.023059</td>\n",
       "      <td>323.152544</td>\n",
       "      <td>0.874854</td>\n",
       "      <td>16.484861</td>\n",
       "      <td>0.412821</td>\n",
       "      <td>0.585607</td>\n",
       "      <td>1237663458852798704</td>\n",
       "      <td>...</td>\n",
       "      <td>0.731050</td>\n",
       "      <td>0.015325</td>\n",
       "      <td>0.729610</td>\n",
       "      <td>0.010079</td>\n",
       "      <td>0.268950</td>\n",
       "      <td>0.015325</td>\n",
       "      <td>0.270390</td>\n",
       "      <td>0.010079</td>\n",
       "      <td>7</td>\n",
       "      <td>6</td>\n",
       "    </tr>\n",
       "  </tbody>\n",
       "</table>\n",
       "<p>305 rows × 49 columns</p>\n",
       "</div>"
      ],
      "text/plain": [
       "                      source_id  clean_sdssdr13_oid  original_ext_source_id  \\\n",
       "Unnamed: 0                                                                    \n",
       "3           2686850112096922368            63997432     1237663456705511599   \n",
       "74          2686622375747773568            58139427     1237656567043326051   \n",
       "114         2686838292346697472            60682541     1237657189815353635   \n",
       "159         2686837845670143488            60686429     1237666185626255558   \n",
       "371         2686847844354711296            63049403     1237663478180741184   \n",
       "...                         ...                 ...                     ...   \n",
       "21955       2688237347874618880            82895778     1237678617402212600   \n",
       "21972       2646228655005377792            87195647     1237678617415057435   \n",
       "22054       2688216598888416768            84185220     1237663458852864528   \n",
       "22153       2688414712845355904            87207149     1237678617938690171   \n",
       "22209       2688213953188941952            83227763     1237663458852798704   \n",
       "\n",
       "            angular_distance     gaia_ra  gaia_dec  phot_g_mean_mag      bp_g  \\\n",
       "Unnamed: 0                                                                      \n",
       "3                   0.071691  323.518261 -0.691753        16.003223  0.421000   \n",
       "74                  0.054710  323.888410 -1.192175        15.584722  0.431451   \n",
       "114                 0.060470  323.229283 -0.970831        16.814514  0.428482   \n",
       "159                 0.120809  323.295130 -0.970518        14.655992  0.384148   \n",
       "371                 0.063926  323.440715 -0.769323        14.601306  0.400590   \n",
       "...                      ...         ...       ...              ...       ...   \n",
       "21955               0.026591  324.342030  0.846337        17.633123  0.309515   \n",
       "21972               0.155451  353.609378  1.214047        17.219310  0.242834   \n",
       "22054               0.048702  323.279361  0.956930        16.549961  0.533588   \n",
       "22153               0.059271  323.386724  1.215203        16.518211  0.402882   \n",
       "22209               0.023059  323.152544  0.874854        16.484861  0.412821   \n",
       "\n",
       "                g_rp                objId  ...    w_mean     w_std  w_median  \\\n",
       "Unnamed: 0                                 ...                                 \n",
       "3           0.581319  1237663456705511599  ...  0.761893  0.025566  0.757452   \n",
       "74          0.608807  1237656567043326051  ...  0.728769  0.030536  0.720564   \n",
       "114         0.591326  1237657189815353635  ...  0.735515  0.022913  0.729443   \n",
       "159         0.557196  1237666185626255558  ...  0.723543  0.021367  0.721457   \n",
       "371         0.579837  1237663478180741184  ...  0.745234  0.024285  0.739799   \n",
       "...              ...                  ...  ...       ...       ...       ...   \n",
       "21955       0.479462  1237678617402212600  ...  0.746271  0.026033  0.753868   \n",
       "21972       0.419060  1237678617415057435  ...  0.733811  0.053346  0.716123   \n",
       "22054       0.683401  1237663458852864528  ...  0.744125  0.070217  0.734538   \n",
       "22153       0.575798  1237678617938690171  ...  0.710843  0.050568  0.737075   \n",
       "22209       0.585607  1237663458852798704  ...  0.731050  0.015325  0.729610   \n",
       "\n",
       "              w_rrms    D_mean     D_std  D_median    D_rrms  wwr  ccr  \n",
       "Unnamed: 0                                                              \n",
       "3           0.013946  0.238107  0.025566  0.242548  0.013946    7    6  \n",
       "74          0.035514  0.271231  0.030536  0.279436  0.035514    7    6  \n",
       "114         0.027370  0.264485  0.022913  0.270557  0.027370    7    6  \n",
       "159         0.015522  0.276457  0.021367  0.278543  0.015522    7    4  \n",
       "371         0.020740  0.254766  0.024285  0.260201  0.020740    7    5  \n",
       "...              ...       ...       ...       ...       ...  ...  ...  \n",
       "21955       0.021805  0.253729  0.026033  0.246132  0.021805    7    5  \n",
       "21972       0.015630  0.266189  0.053346  0.283877  0.015630    7    5  \n",
       "22054       0.016859  0.263323  0.032609  0.265766  0.016438    7    7  \n",
       "22153       0.044209  0.289157  0.050568  0.262925  0.044209    7    6  \n",
       "22209       0.010079  0.268950  0.015325  0.270390  0.010079    7    6  \n",
       "\n",
       "[305 rows x 49 columns]"
      ]
     },
     "execution_count": 8,
     "metadata": {},
     "output_type": "execute_result"
    }
   ],
   "source": [
    "uncl[(uncl.wwr == 7) & (uncl.w_median > 0.7) & (uncl.w_median < 0.8) & (uncl.w_rrms < 0.05)]"
   ]
  },
  {
   "cell_type": "code",
   "execution_count": null,
   "id": "281f5540",
   "metadata": {},
   "outputs": [
    {
     "name": "stderr",
     "output_type": "stream",
     "text": [
      "  0%|                                                                                        | 3/5760 [00:00<08:43, 11.00it/s]"
     ]
    },
    {
     "name": "stdout",
     "output_type": "stream",
     "text": [
      "500 Error 500:\n",
      "No handler found for this request.\n",
      "\n",
      "Cannot process request: 'https://gea.esac.esa.int/data-server/data' (req: Reqid: anonymous1707592583943, retrieval access: DIRECT, retrieval type: XP_CONTINUOUS, compression: null), for user: UwsJobOwner{id='anonymous', name='null', mail='null', authUsername='null', authGroups=[], pseudo='anonymous', session='6E6A1206B6CEBAC60F427476EB00ED1D', ip='88.207.16.122', roles=0, parameters=Owner parameters: 6},  due to: No handler found for this request.\n"
     ]
    },
    {
     "name": "stderr",
     "output_type": "stream",
     "text": [
      "\r",
      "  0%|▎                                                                                      | 20/5760 [00:04<21:25,  4.47it/s]"
     ]
    },
    {
     "name": "stdout",
     "output_type": "stream",
     "text": [
      "500 Error 500:\n",
      "No handler found for this request.\n",
      "\n",
      "Cannot process request: 'https://gea.esac.esa.int/data-server/data' (req: Reqid: anonymous1707592588029, retrieval access: DIRECT, retrieval type: XP_CONTINUOUS, compression: null), for user: UwsJobOwner{id='anonymous', name='null', mail='null', authUsername='null', authGroups=[], pseudo='anonymous', session='CACF9FAAAFCCB7CF321716FF48033672', ip='88.207.16.122', roles=0, parameters=Owner parameters: 6},  due to: No handler found for this request.\n"
     ]
    },
    {
     "name": "stderr",
     "output_type": "stream",
     "text": [
      "\r",
      "  0%|▍                                                                                      | 28/5760 [00:08<31:56,  2.99it/s]"
     ]
    },
    {
     "name": "stdout",
     "output_type": "stream",
     "text": [
      "500 Error 500:\n",
      "No handler found for this request.\n",
      "\n",
      "Cannot process request: 'https://gea.esac.esa.int/data-server/data' (req: Reqid: anonymous1707592592179, retrieval access: DIRECT, retrieval type: XP_CONTINUOUS, compression: null), for user: UwsJobOwner{id='anonymous', name='null', mail='null', authUsername='null', authGroups=[], pseudo='anonymous', session='0DCC1E8FB14329821176C51EE7E12799', ip='88.207.16.122', roles=0, parameters=Owner parameters: 6},  due to: No handler found for this request.\n"
     ]
    },
    {
     "name": "stderr",
     "output_type": "stream",
     "text": [
      "\r",
      "  1%|▌                                                                                      | 39/5760 [00:12<32:01,  2.98it/s]"
     ]
    },
    {
     "name": "stdout",
     "output_type": "stream",
     "text": [
      "500 Error 500:\n",
      "No handler found for this request.\n",
      "\n",
      "Cannot process request: 'https://gea.esac.esa.int/data-server/data' (req: Reqid: anonymous1707592595898, retrieval access: DIRECT, retrieval type: XP_CONTINUOUS, compression: null), for user: UwsJobOwner{id='anonymous', name='null', mail='null', authUsername='null', authGroups=[], pseudo='anonymous', session='90DAB6AE22657129B5B3C0F90D83E03B', ip='88.207.16.122', roles=0, parameters=Owner parameters: 6},  due to: No handler found for this request.\n"
     ]
    },
    {
     "name": "stderr",
     "output_type": "stream",
     "text": [
      "  2%|█▋                                                                                    | 109/5760 [00:14<08:31, 11.06it/s]"
     ]
    },
    {
     "name": "stdout",
     "output_type": "stream",
     "text": [
      "Could not get SDSS data\n",
      "Could not get SDSS data\n"
     ]
    },
    {
     "name": "stderr",
     "output_type": "stream",
     "text": [
      "\r",
      "  2%|█▋                                                                                    | 114/5760 [00:19<16:30,  5.70it/s]"
     ]
    },
    {
     "name": "stdout",
     "output_type": "stream",
     "text": [
      "500 Error 500:\n",
      "No handler found for this request.\n",
      "\n",
      "Cannot process request: 'https://gea.esac.esa.int/data-server/data' (req: Reqid: anonymous1707592603096, retrieval access: DIRECT, retrieval type: XP_CONTINUOUS, compression: null), for user: UwsJobOwner{id='anonymous', name='null', mail='null', authUsername='null', authGroups=[], pseudo='anonymous', session='E5DB22D4695E415CDC87945E08BA9688', ip='88.207.16.122', roles=0, parameters=Owner parameters: 6},  due to: No handler found for this request.\n"
     ]
    },
    {
     "name": "stderr",
     "output_type": "stream",
     "text": [
      "  2%|█▊                                                                                    | 121/5760 [00:21<18:34,  5.06it/s]"
     ]
    },
    {
     "name": "stdout",
     "output_type": "stream",
     "text": [
      "Could not get SDSS data\n",
      "Could not get SDSS data\n"
     ]
    },
    {
     "name": "stderr",
     "output_type": "stream",
     "text": [
      "\r",
      "  2%|█▉                                                                                    | 133/5760 [00:21<12:19,  7.61it/s]"
     ]
    },
    {
     "name": "stdout",
     "output_type": "stream",
     "text": [
      "Could not get SDSS data\n"
     ]
    },
    {
     "name": "stderr",
     "output_type": "stream",
     "text": [
      "  4%|███                                                                                   | 208/5760 [00:23<03:33, 26.03it/s]"
     ]
    },
    {
     "name": "stdout",
     "output_type": "stream",
     "text": [
      "Could not get SDSS data\n",
      "Could not get SDSS data\n"
     ]
    },
    {
     "name": "stderr",
     "output_type": "stream",
     "text": [
      "  4%|███▍                                                                                  | 234/5760 [00:23<02:40, 34.38it/s]"
     ]
    },
    {
     "name": "stdout",
     "output_type": "stream",
     "text": [
      "Could not get SDSS data\n",
      "Could not get SDSS data\n"
     ]
    },
    {
     "name": "stderr",
     "output_type": "stream",
     "text": [
      "  5%|████                                                                                  | 271/5760 [00:23<01:46, 51.31it/s]"
     ]
    },
    {
     "name": "stdout",
     "output_type": "stream",
     "text": [
      "Could not get SDSS data\n",
      "Could not get SDSS data\n"
     ]
    },
    {
     "name": "stderr",
     "output_type": "stream",
     "text": [
      "  6%|████▉                                                                                 | 329/5760 [00:24<00:56, 96.35it/s]"
     ]
    },
    {
     "name": "stdout",
     "output_type": "stream",
     "text": [
      "Could not get SDSS data\n",
      "Could not get SDSS data\n"
     ]
    },
    {
     "name": "stderr",
     "output_type": "stream",
     "text": [
      "\r",
      "  6%|█████▏                                                                               | 355/5760 [00:24<00:48, 111.54it/s]"
     ]
    },
    {
     "name": "stdout",
     "output_type": "stream",
     "text": [
      "Could not get SDSS data\n",
      "Could not get SDSS data\n",
      "500 Error 500:\n",
      "No handler found for this request.\n",
      "\n",
      "Cannot process request: 'https://gea.esac.esa.int/data-server/data' (req: Reqid: anonymous1707592612232, retrieval access: DIRECT, retrieval type: XP_CONTINUOUS, compression: null), for user: UwsJobOwner{id='anonymous', name='null', mail='null', authUsername='null', authGroups=[], pseudo='anonymous', session='844080F772285FDB87F25F13A8249FBD', ip='88.207.16.122', roles=0, parameters=Owner parameters: 6},  due to: No handler found for this request.\n",
      "Could not get SDSS data\n"
     ]
    },
    {
     "name": "stderr",
     "output_type": "stream",
     "text": [
      "\r",
      "  6%|█████▌                                                                                | 371/5760 [00:33<11:33,  7.77it/s]"
     ]
    },
    {
     "name": "stdout",
     "output_type": "stream",
     "text": [
      "500 Error 500:\n",
      "No handler found for this request.\n",
      "\n",
      "Cannot process request: 'https://gea.esac.esa.int/data-server/data' (req: Reqid: anonymous1707592617219, retrieval access: DIRECT, retrieval type: XP_CONTINUOUS, compression: null), for user: UwsJobOwner{id='anonymous', name='null', mail='null', authUsername='null', authGroups=[], pseudo='anonymous', session='237E4D6C4835EBF5573F52E00B1D06B7', ip='88.207.16.122', roles=0, parameters=Owner parameters: 6},  due to: No handler found for this request.\n"
     ]
    }
   ],
   "source": [
    "for gid, w_median, w_rrms, ccr in tqdm(uncl[['source_id', 'w_median', 'w_rrms', 'ccr']].to_numpy()):\n",
    "    if 0.7 < w_median < 0.8 and w_rrms < 0.05:\n",
    "        path = f'../figures/roi/ambi5/{cc_region_names[int(ccr-1)]}/'\n",
    "    else:\n",
    "        continue\n",
    "        \n",
    "    if not os.path.exists(path):\n",
    "        os.makedirs(path)\n",
    "        \n",
    "    plot_spectra(gaia_id=gid, savefig=path, mt=DF, q_med=Q_MEDIAN, data_path=DATA_PATH)"
   ]
  },
  {
   "cell_type": "code",
   "execution_count": null,
   "id": "7d5e790b",
   "metadata": {},
   "outputs": [],
   "source": []
  }
 ],
 "metadata": {
  "kernelspec": {
   "display_name": "Python 3 (ipykernel)",
   "language": "python",
   "name": "python3"
  },
  "language_info": {
   "codemirror_mode": {
    "name": "ipython",
    "version": 3
   },
   "file_extension": ".py",
   "mimetype": "text/x-python",
   "name": "python",
   "nbconvert_exporter": "python",
   "pygments_lexer": "ipython3",
   "version": "3.10.9"
  }
 },
 "nbformat": 4,
 "nbformat_minor": 5
}
