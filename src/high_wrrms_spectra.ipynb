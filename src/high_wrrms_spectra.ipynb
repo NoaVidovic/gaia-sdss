{
 "cells": [
  {
   "cell_type": "code",
   "execution_count": 1,
   "id": "48fb315a",
   "metadata": {},
   "outputs": [],
   "source": [
    "import matplotlib.pyplot as plt\n",
    "import numpy as np\n",
    "import os\n",
    "import pandas as pd\n",
    "\n",
    "from tqdm import tqdm\n",
    "\n",
    "from show_spectra import plot_spectra"
   ]
  },
  {
   "cell_type": "code",
   "execution_count": 2,
   "id": "0ec4d3be",
   "metadata": {},
   "outputs": [],
   "source": [
    "import warnings\n",
    "warnings.filterwarnings(\"ignore\", category=np.VisibleDeprecationWarning) "
   ]
  },
  {
   "cell_type": "code",
   "execution_count": 3,
   "id": "60583a65",
   "metadata": {},
   "outputs": [],
   "source": [
    "DF = pd.read_csv('../data/main_table.csv', index_col=0)\n",
    "DF = DF.loc[DF.w_median.notnull()]\n",
    "Q_MEDIAN = np.load('../data/q_median.npy')\n",
    "DATA_PATH = '../data/spectra'\n",
    "\n",
    "is_nonvar = DF.nonvar_match_num == 1\n",
    "is_var    = DF.var_match_num == 1\n",
    "is_quasar = DF.quasar_match_num == 1\n",
    "\n",
    "nonvar_subset = DF[is_nonvar & ~is_var & ~is_quasar]\n",
    "var_subset    = DF[~is_nonvar & is_var & ~is_quasar]\n",
    "quasar_subset = DF[~is_nonvar & ~is_var & is_quasar]"
   ]
  },
  {
   "cell_type": "code",
   "execution_count": 4,
   "id": "197988ca",
   "metadata": {},
   "outputs": [],
   "source": [
    "def line(p1, p2):\n",
    "    x1, y1 = p1\n",
    "    x2, y2 = p2\n",
    "    a = (y2-y1)/(x2-x1)\n",
    "    b = y1 - a*x1\n",
    "    return lambda x: a * x + b\n",
    "\n",
    "def cc_region(df):\n",
    "    line_lower = line((0.7, 0.1), (3.7, 1.5))\n",
    "    line_upper = line((0.7, 0.5), (2.0, 1.1))\n",
    "    x = df['psfMag_u'] - df['psfMag_g']\n",
    "    y = df['psfMag_g'] - df['psfMag_r']\n",
    "    \n",
    "    lux, llx = line_upper(x), line_lower(x)\n",
    "    \n",
    "    conditions = [\n",
    "        (x < 0.7) & (y < -0.2),\n",
    "        (x < 0.7) & (-0.2 <= y) & (y <= 0.5),\n",
    "        (x < 0.7) & (y > 0.5),\n",
    "        (x < 2.0) & (y > lux),\n",
    "        (0.7 <= x) & (x <= 1.4) & (y < llx),\n",
    "        (0.7 <= x) & (x <= 1.4) & (y > llx) & (y < lux),\n",
    "        (1.4 < x) & (x < 2.0) & (y > llx) & (y < lux),\n",
    "        (x >= 2.0) & (y > llx)        \n",
    "    ]\n",
    "    choices = [ 1, 2, 3, 3, 4, 5, 6, 7 ]\n",
    "    \n",
    "    return np.select(conditions, choices, default=8)\n",
    "\n",
    "def ww_region(df):\n",
    "    x = df['w_rrms']\n",
    "    y = df['w_median']\n",
    "    is_nonvar = df.nonvar_match_num == 1\n",
    "    is_var    = df.var_match_num == 1\n",
    "    is_quasar = df.quasar_match_num == 1\n",
    "    \n",
    "    conditions = [\n",
    "        is_nonvar & ~is_var & ~is_quasar & (x > 0.1) & (x < 0.2) & (y < 0.3),\n",
    "        is_nonvar & ~is_var & ~is_quasar & (x < 0.03) & (y > 0.7) & (y < 0.8),\n",
    "        is_nonvar & ~is_var & ~is_quasar & (x > 0.15),\n",
    "        ~is_nonvar & is_var & ~is_quasar & (x > 0.10),\n",
    "        ~is_nonvar & ~is_var & is_quasar & (x > 0.10)\n",
    "    ]\n",
    "    choices = [ 4, 5, 1, 2, 3 ]\n",
    "    \n",
    "    return np.select(conditions, choices, default=6)\n",
    "\n",
    "cc_region_names = [ f'R_CC_{n}' for n in [ 'I', 'II', 'III', 'IV', 'Va', 'Vb', 'Vc', 'VI' ] ]\n",
    "ww_region_names = [ f'R_WW_{n}' for n in '123456' ]"
   ]
  },
  {
   "cell_type": "markdown",
   "id": "dfba6f9e",
   "metadata": {},
   "source": [
    "# new"
   ]
  },
  {
   "cell_type": "code",
   "execution_count": 5,
   "id": "16114d96",
   "metadata": {},
   "outputs": [],
   "source": [
    "DF['wwr'] = ww_region(DF)\n",
    "DF['ccr'] = cc_region(DF)"
   ]
  },
  {
   "cell_type": "code",
   "execution_count": null,
   "id": "6713e336",
   "metadata": {},
   "outputs": [
    {
     "name": "stderr",
     "output_type": "stream",
     "text": [
      " 50%|███████████████████████████████████████████████████████████▌                                                           | 328/655 [06:41<15:07,  2.78s/it]"
     ]
    }
   ],
   "source": [
    "for gid, wwr, ccr in tqdm(DF[DF.wwr != 6][['source_id', 'wwr', 'ccr']].to_numpy()):\n",
    "    path = f'../figures/roi/{ww_region_names[wwr-1]}/{cc_region_names[ccr-1]}/'\n",
    "    if not os.path.exists(path):\n",
    "        os.makedirs(path)\n",
    "        \n",
    "    plot_spectra(gaia_id=gid, savefig=path, mt=DF, q_med=Q_MEDIAN, data_path=DATA_PATH)"
   ]
  },
  {
   "cell_type": "code",
   "execution_count": null,
   "id": "df775eef",
   "metadata": {},
   "outputs": [],
   "source": [
    "uncl = DF[~(is_nonvar | is_var | is_quasar)]"
   ]
  },
  {
   "cell_type": "code",
   "execution_count": null,
   "id": "38ac5522",
   "metadata": {},
   "outputs": [],
   "source": [
    "uncl[uncl.wwr == 6]"
   ]
  },
  {
   "cell_type": "code",
   "execution_count": 51,
   "id": "281f5540",
   "metadata": {},
   "outputs": [
    {
     "ename": "HTTPError",
     "evalue": "Error 500:\nNo handler found for this request.\n\nCannot process request: 'https://gea.esac.esa.int/data-server/data' (req: Reqid: anonymous1707262210514, retrieval access: DIRECT, retrieval type: XP_CONTINUOUS, compression: null), for user: UwsJobOwner{id='anonymous', name='null', mail='null', authUsername='null', authGroups=[], pseudo='anonymous', session='C74BEE5C2D877A2F56E6DA50245CC517', ip='88.207.16.176', roles=0, parameters=Owner parameters: 6},  due to: No handler found for this request.",
     "output_type": "error",
     "traceback": [
      "\u001b[0;31m---------------------------------------------------------------------------\u001b[0m",
      "\u001b[0;31mHTTPError\u001b[0m                                 Traceback (most recent call last)",
      "Cell \u001b[0;32mIn[51], line 12\u001b[0m\n\u001b[1;32m      9\u001b[0m \u001b[38;5;28;01mif\u001b[39;00m \u001b[38;5;129;01mnot\u001b[39;00m os\u001b[38;5;241m.\u001b[39mpath\u001b[38;5;241m.\u001b[39mexists(path):\n\u001b[1;32m     10\u001b[0m     os\u001b[38;5;241m.\u001b[39mmakedirs(path)\n\u001b[0;32m---> 12\u001b[0m \u001b[43mplot_spectra\u001b[49m\u001b[43m(\u001b[49m\u001b[43mgaia_id\u001b[49m\u001b[38;5;241;43m=\u001b[39;49m\u001b[43mgid\u001b[49m\u001b[43m,\u001b[49m\u001b[43m \u001b[49m\u001b[43msavefig\u001b[49m\u001b[38;5;241;43m=\u001b[39;49m\u001b[43mpath\u001b[49m\u001b[43m,\u001b[49m\u001b[43m \u001b[49m\u001b[43mmt\u001b[49m\u001b[38;5;241;43m=\u001b[39;49m\u001b[43mDF\u001b[49m\u001b[43m,\u001b[49m\u001b[43m \u001b[49m\u001b[43mq_med\u001b[49m\u001b[38;5;241;43m=\u001b[39;49m\u001b[43mQ_MEDIAN\u001b[49m\u001b[43m)\u001b[49m\n",
      "File \u001b[0;32m~/projects/gaia_sdss/src/show_spectra.py:125\u001b[0m, in \u001b[0;36mplot_spectra\u001b[0;34m(gaia_id, sdss_id, savefig, mt, q_med)\u001b[0m\n\u001b[1;32m    122\u001b[0m sdss_flux \u001b[38;5;241m=\u001b[39m spec_data[\u001b[38;5;124m'\u001b[39m\u001b[38;5;124mflux\u001b[39m\u001b[38;5;124m'\u001b[39m] \u001b[38;5;241m*\u001b[39m \u001b[38;5;241m1e-19\u001b[39m \u001b[38;5;66;03m# Convert SDSS units (1e-17 in cgs) to Gaia units (SI)\u001b[39;00m\n\u001b[1;32m    124\u001b[0m \u001b[38;5;66;03m# get gaia data and calibrate using sdss sampling\u001b[39;00m\n\u001b[0;32m--> 125\u001b[0m gaia_flux \u001b[38;5;241m=\u001b[39m \u001b[43mgxp\u001b[49m\u001b[38;5;241;43m.\u001b[39;49m\u001b[43mcalibrate\u001b[49m\u001b[43m(\u001b[49m\u001b[43m[\u001b[49m\u001b[43mgaia_id\u001b[49m\u001b[43m]\u001b[49m\u001b[43m,\u001b[49m\u001b[43m \u001b[49m\u001b[43msampling\u001b[49m\u001b[38;5;241;43m=\u001b[39;49m\u001b[43msdss_sampling\u001b[49m\u001b[43m,\u001b[49m\u001b[43m \u001b[49m\u001b[43mtruncation\u001b[49m\u001b[38;5;241;43m=\u001b[39;49m\u001b[38;5;28;43;01mTrue\u001b[39;49;00m\u001b[43m)\u001b[49m[\u001b[38;5;241m0\u001b[39m][\u001b[38;5;124m'\u001b[39m\u001b[38;5;124mflux\u001b[39m\u001b[38;5;124m'\u001b[39m][\u001b[38;5;241m0\u001b[39m]\n\u001b[1;32m    127\u001b[0m weights, fit_rms, locs, widths \u001b[38;5;241m=\u001b[39m sum_of_norms(sdss_sampling, sdss_flux, NUM_NORMS,\n\u001b[1;32m    128\u001b[0m                                              spacing\u001b[38;5;241m=\u001b[39m\u001b[38;5;124m'\u001b[39m\u001b[38;5;124mlinear\u001b[39m\u001b[38;5;124m'\u001b[39m,\n\u001b[1;32m    129\u001b[0m                                              full_output\u001b[38;5;241m=\u001b[39m\u001b[38;5;28;01mTrue\u001b[39;00m)\n\u001b[1;32m    131\u001b[0m \u001b[38;5;66;03m# convolve sdss with sigma_gaia\u001b[39;00m\n",
      "File \u001b[0;32m~/projects/gaia_sdss/venv/lib/python3.10/site-packages/gaiaxpy/calibrator/calibrator.py:60\u001b[0m, in \u001b[0;36mcalibrate\u001b[0;34m(input_object, sampling, truncation, output_path, output_file, output_format, save_file, username, password)\u001b[0m\n\u001b[1;32m     34\u001b[0m \u001b[38;5;124;03m\"\"\"\u001b[39;00m\n\u001b[1;32m     35\u001b[0m \u001b[38;5;124;03mCalibration utility: calibrates the input internally-calibrated continuously-represented mean spectra to the\u001b[39;00m\n\u001b[1;32m     36\u001b[0m \u001b[38;5;124;03mabsolute system. An absolute spectrum sampled on a user-defined or default wavelength grid is created for each\u001b[39;00m\n\u001b[0;32m   (...)\u001b[0m\n\u001b[1;32m     57\u001b[0m \u001b[38;5;124;03m        ndarray: The sampling used to calibrate the input spectra (user-provided or default).\u001b[39;00m\n\u001b[1;32m     58\u001b[0m \u001b[38;5;124;03m\"\"\"\u001b[39;00m\n\u001b[1;32m     59\u001b[0m \u001b[38;5;66;03m# Call internal method\u001b[39;00m\n\u001b[0;32m---> 60\u001b[0m \u001b[38;5;28;01mreturn\u001b[39;00m \u001b[43m_calibrate\u001b[49m\u001b[43m(\u001b[49m\u001b[43minput_object\u001b[49m\u001b[43m,\u001b[49m\u001b[43m \u001b[49m\u001b[43msampling\u001b[49m\u001b[43m,\u001b[49m\u001b[43m \u001b[49m\u001b[43mtruncation\u001b[49m\u001b[43m,\u001b[49m\u001b[43m \u001b[49m\u001b[43moutput_path\u001b[49m\u001b[43m,\u001b[49m\u001b[43m \u001b[49m\u001b[43moutput_file\u001b[49m\u001b[43m,\u001b[49m\u001b[43m \u001b[49m\u001b[43moutput_format\u001b[49m\u001b[43m,\u001b[49m\u001b[43m \u001b[49m\u001b[43msave_file\u001b[49m\u001b[43m,\u001b[49m\n\u001b[1;32m     61\u001b[0m \u001b[43m                  \u001b[49m\u001b[43musername\u001b[49m\u001b[38;5;241;43m=\u001b[39;49m\u001b[43musername\u001b[49m\u001b[43m,\u001b[49m\u001b[43m \u001b[49m\u001b[43mpassword\u001b[49m\u001b[38;5;241;43m=\u001b[39;49m\u001b[43mpassword\u001b[49m\u001b[43m)\u001b[49m\n",
      "File \u001b[0;32m~/projects/gaia_sdss/venv/lib/python3.10/site-packages/gaiaxpy/calibrator/calibrator.py:82\u001b[0m, in \u001b[0;36m_calibrate\u001b[0;34m(input_object, sampling, truncation, output_path, output_file, output_format, save_file, bp_model, rp_model, username, password)\u001b[0m\n\u001b[1;32m     80\u001b[0m _validate_wl_sampling(sampling)\n\u001b[1;32m     81\u001b[0m _validate_arguments(_calibrate\u001b[38;5;241m.\u001b[39m\u001b[38;5;18m__defaults__\u001b[39m[\u001b[38;5;241m3\u001b[39m], output_file, save_file)\n\u001b[0;32m---> 82\u001b[0m parsed_input_data, extension \u001b[38;5;241m=\u001b[39m \u001b[43mInputReader\u001b[49m\u001b[43m(\u001b[49m\u001b[43minput_object\u001b[49m\u001b[43m,\u001b[49m\u001b[43m \u001b[49m\u001b[43m_calibrate\u001b[49m\u001b[43m,\u001b[49m\u001b[43m \u001b[49m\u001b[43musername\u001b[49m\u001b[43m,\u001b[49m\u001b[43m \u001b[49m\u001b[43mpassword\u001b[49m\u001b[43m)\u001b[49m\u001b[38;5;241;43m.\u001b[39;49m\u001b[43m_read\u001b[49m\u001b[43m(\u001b[49m\u001b[43m)\u001b[49m\n\u001b[1;32m     83\u001b[0m label \u001b[38;5;241m=\u001b[39m \u001b[38;5;124m'\u001b[39m\u001b[38;5;124mcalibrator\u001b[39m\u001b[38;5;124m'\u001b[39m\n\u001b[1;32m     84\u001b[0m xp_design_matrices, xp_merge \u001b[38;5;241m=\u001b[39m _generate_xp_matrices_and_merge(label, sampling, bp_model, rp_model)\n",
      "File \u001b[0;32m~/projects/gaia_sdss/venv/lib/python3.10/site-packages/gaiaxpy/input_reader/input_reader.py:50\u001b[0m, in \u001b[0;36mInputReader._read\u001b[0;34m(self)\u001b[0m\n\u001b[1;32m     47\u001b[0m \u001b[38;5;66;03m# List reader for query\u001b[39;00m\n\u001b[1;32m     48\u001b[0m \u001b[38;5;28;01melif\u001b[39;00m \u001b[38;5;28misinstance\u001b[39m(content, \u001b[38;5;28mlist\u001b[39m):\n\u001b[1;32m     49\u001b[0m     \u001b[38;5;66;03m# Construct query from list\u001b[39;00m\n\u001b[0;32m---> 50\u001b[0m     parsed_data, extension \u001b[38;5;241m=\u001b[39m \u001b[43mListReader\u001b[49m\u001b[43m(\u001b[49m\u001b[43mcontent\u001b[49m\u001b[43m,\u001b[49m\u001b[43m \u001b[49m\u001b[43mfunction\u001b[49m\u001b[43m,\u001b[49m\u001b[43m \u001b[49m\u001b[43muser\u001b[49m\u001b[43m,\u001b[49m\u001b[43m \u001b[49m\u001b[43mpassword\u001b[49m\u001b[43m)\u001b[49m\u001b[38;5;241;43m.\u001b[39;49m\u001b[43m_read\u001b[49m\u001b[43m(\u001b[49m\u001b[43m)\u001b[49m\n\u001b[1;32m     51\u001b[0m \u001b[38;5;66;03m# String can be either query or file path\u001b[39;00m\n\u001b[1;32m     52\u001b[0m \u001b[38;5;28;01melif\u001b[39;00m \u001b[38;5;28misinstance\u001b[39m(content, \u001b[38;5;28mstr\u001b[39m):\n",
      "File \u001b[0;32m~/projects/gaia_sdss/venv/lib/python3.10/site-packages/gaiaxpy/input_reader/list_reader.py:37\u001b[0m, in \u001b[0;36mListReader._read\u001b[0;34m(self, _data_release)\u001b[0m\n\u001b[1;32m     35\u001b[0m \u001b[38;5;28mself\u001b[39m\u001b[38;5;241m.\u001b[39m_login(gaia)\n\u001b[1;32m     36\u001b[0m \u001b[38;5;66;03m# ADQL query\u001b[39;00m\n\u001b[0;32m---> 37\u001b[0m result \u001b[38;5;241m=\u001b[39m \u001b[43mgaia\u001b[49m\u001b[38;5;241;43m.\u001b[39;49m\u001b[43mload_data\u001b[49m\u001b[43m(\u001b[49m\u001b[43mids\u001b[49m\u001b[38;5;241;43m=\u001b[39;49m\u001b[43msources\u001b[49m\u001b[43m,\u001b[49m\u001b[43m \u001b[49m\u001b[38;5;28;43mformat\u001b[39;49m\u001b[38;5;241;43m=\u001b[39;49m\u001b[38;5;124;43m'\u001b[39;49m\u001b[38;5;124;43mcsv\u001b[39;49m\u001b[38;5;124;43m'\u001b[39;49m\u001b[43m,\u001b[49m\u001b[43m \u001b[49m\u001b[43mdata_release\u001b[49m\u001b[38;5;241;43m=\u001b[39;49m\u001b[43m_data_release\u001b[49m\u001b[43m,\u001b[49m\u001b[43m \u001b[49m\u001b[43mdata_structure\u001b[49m\u001b[38;5;241;43m=\u001b[39;49m\u001b[38;5;124;43m'\u001b[39;49m\u001b[38;5;124;43mraw\u001b[39;49m\u001b[38;5;124;43m'\u001b[39;49m\u001b[43m,\u001b[49m\n\u001b[1;32m     38\u001b[0m \u001b[43m                        \u001b[49m\u001b[43mretrieval_type\u001b[49m\u001b[38;5;241;43m=\u001b[39;49m\u001b[38;5;124;43m'\u001b[39;49m\u001b[38;5;124;43mXP_CONTINUOUS\u001b[39;49m\u001b[38;5;124;43m'\u001b[39;49m\u001b[43m,\u001b[49m\u001b[43m \u001b[49m\u001b[43mavoid_datatype_check\u001b[49m\u001b[38;5;241;43m=\u001b[39;49m\u001b[38;5;28;43;01mTrue\u001b[39;49;00m\u001b[43m)\u001b[49m\n\u001b[1;32m     39\u001b[0m \u001b[38;5;28;01mtry\u001b[39;00m:\n\u001b[1;32m     40\u001b[0m     continuous_key \u001b[38;5;241m=\u001b[39m [key \u001b[38;5;28;01mfor\u001b[39;00m key \u001b[38;5;129;01min\u001b[39;00m result\u001b[38;5;241m.\u001b[39mkeys() \u001b[38;5;28;01mif\u001b[39;00m \u001b[38;5;124m'\u001b[39m\u001b[38;5;124mcontinuous\u001b[39m\u001b[38;5;124m'\u001b[39m \u001b[38;5;129;01min\u001b[39;00m key\u001b[38;5;241m.\u001b[39mlower()][\u001b[38;5;241m0\u001b[39m]\n",
      "File \u001b[0;32m~/projects/gaia_sdss/venv/lib/python3.10/site-packages/astroquery/gaia/core.py:288\u001b[0m, in \u001b[0;36mGaiaClass.load_data\u001b[0;34m(self, ids, data_release, data_structure, retrieval_type, valid_data, band, avoid_datatype_check, format, output_file, overwrite_output_file, verbose)\u001b[0m\n\u001b[1;32m    286\u001b[0m     files \u001b[38;5;241m=\u001b[39m Gaia\u001b[38;5;241m.\u001b[39m__get_data_files(output_file\u001b[38;5;241m=\u001b[39moutput_file, path\u001b[38;5;241m=\u001b[39mpath)\n\u001b[1;32m    287\u001b[0m \u001b[38;5;28;01mexcept\u001b[39;00m \u001b[38;5;167;01mException\u001b[39;00m \u001b[38;5;28;01mas\u001b[39;00m err:\n\u001b[0;32m--> 288\u001b[0m     \u001b[38;5;28;01mraise\u001b[39;00m err\n\u001b[1;32m    289\u001b[0m \u001b[38;5;28;01mfinally\u001b[39;00m:\n\u001b[1;32m    290\u001b[0m     \u001b[38;5;28;01mif\u001b[39;00m \u001b[38;5;129;01mnot\u001b[39;00m output_file_specified:\n",
      "File \u001b[0;32m~/projects/gaia_sdss/venv/lib/python3.10/site-packages/astroquery/gaia/core.py:283\u001b[0m, in \u001b[0;36mGaiaClass.load_data\u001b[0;34m(self, ids, data_release, data_structure, retrieval_type, valid_data, band, avoid_datatype_check, format, output_file, overwrite_output_file, verbose)\u001b[0m\n\u001b[1;32m    280\u001b[0m         log\u001b[38;5;241m.\u001b[39merror(\u001b[38;5;124m\"\u001b[39m\u001b[38;5;124mCreation of the directory \u001b[39m\u001b[38;5;132;01m%s\u001b[39;00m\u001b[38;5;124m failed\u001b[39m\u001b[38;5;124m\"\u001b[39m \u001b[38;5;241m%\u001b[39m path)\n\u001b[1;32m    282\u001b[0m \u001b[38;5;28;01mtry\u001b[39;00m:\n\u001b[0;32m--> 283\u001b[0m     \u001b[38;5;28;43mself\u001b[39;49m\u001b[38;5;241;43m.\u001b[39;49m\u001b[43m__gaiadata\u001b[49m\u001b[38;5;241;43m.\u001b[39;49m\u001b[43mload_data\u001b[49m\u001b[43m(\u001b[49m\u001b[43mparams_dict\u001b[49m\u001b[38;5;241;43m=\u001b[39;49m\u001b[43mparams_dict\u001b[49m\u001b[43m,\u001b[49m\n\u001b[1;32m    284\u001b[0m \u001b[43m                              \u001b[49m\u001b[43moutput_file\u001b[49m\u001b[38;5;241;43m=\u001b[39;49m\u001b[43moutput_file\u001b[49m\u001b[43m,\u001b[49m\n\u001b[1;32m    285\u001b[0m \u001b[43m                              \u001b[49m\u001b[43mverbose\u001b[49m\u001b[38;5;241;43m=\u001b[39;49m\u001b[43mverbose\u001b[49m\u001b[43m)\u001b[49m\n\u001b[1;32m    286\u001b[0m     files \u001b[38;5;241m=\u001b[39m Gaia\u001b[38;5;241m.\u001b[39m__get_data_files(output_file\u001b[38;5;241m=\u001b[39moutput_file, path\u001b[38;5;241m=\u001b[39mpath)\n\u001b[1;32m    287\u001b[0m \u001b[38;5;28;01mexcept\u001b[39;00m \u001b[38;5;167;01mException\u001b[39;00m \u001b[38;5;28;01mas\u001b[39;00m err:\n",
      "File \u001b[0;32m~/projects/gaia_sdss/venv/lib/python3.10/site-packages/astroquery/utils/tap/core.py:838\u001b[0m, in \u001b[0;36mTapPlus.load_data\u001b[0;34m(self, params_dict, output_file, verbose)\u001b[0m\n\u001b[1;32m    836\u001b[0m \u001b[38;5;28;01mif\u001b[39;00m verbose:\n\u001b[1;32m    837\u001b[0m     \u001b[38;5;28mprint\u001b[39m(response\u001b[38;5;241m.\u001b[39mstatus, response\u001b[38;5;241m.\u001b[39mreason)\n\u001b[0;32m--> 838\u001b[0m \u001b[43mconnHandler\u001b[49m\u001b[38;5;241;43m.\u001b[39;49m\u001b[43mcheck_launch_response_status\u001b[49m\u001b[43m(\u001b[49m\u001b[43mresponse\u001b[49m\u001b[43m,\u001b[49m\n\u001b[1;32m    839\u001b[0m \u001b[43m                                         \u001b[49m\u001b[43mverbose\u001b[49m\u001b[43m,\u001b[49m\n\u001b[1;32m    840\u001b[0m \u001b[43m                                         \u001b[49m\u001b[38;5;241;43m200\u001b[39;49m\u001b[43m)\u001b[49m\n\u001b[1;32m    841\u001b[0m \u001b[38;5;28;01mif\u001b[39;00m verbose:\n\u001b[1;32m    842\u001b[0m     \u001b[38;5;28mprint\u001b[39m(\u001b[38;5;124m\"\u001b[39m\u001b[38;5;124mReading...\u001b[39m\u001b[38;5;124m\"\u001b[39m)\n",
      "File \u001b[0;32m~/projects/gaia_sdss/venv/lib/python3.10/site-packages/astroquery/utils/tap/conn/tapconn.py:683\u001b[0m, in \u001b[0;36mTapConn.check_launch_response_status\u001b[0;34m(self, response, debug, expected_response_status, raise_exception)\u001b[0m\n\u001b[1;32m    681\u001b[0m     errMsg \u001b[38;5;241m=\u001b[39m taputils\u001b[38;5;241m.\u001b[39mget_http_response_error(response)\n\u001b[1;32m    682\u001b[0m     \u001b[38;5;28mprint\u001b[39m(response\u001b[38;5;241m.\u001b[39mstatus, errMsg)\n\u001b[0;32m--> 683\u001b[0m     \u001b[38;5;28;01mraise\u001b[39;00m requests\u001b[38;5;241m.\u001b[39mexceptions\u001b[38;5;241m.\u001b[39mHTTPError(errMsg)\n\u001b[1;32m    684\u001b[0m \u001b[38;5;28;01melse\u001b[39;00m:\n\u001b[1;32m    685\u001b[0m     \u001b[38;5;28;01mreturn\u001b[39;00m isError\n",
      "\u001b[0;31mHTTPError\u001b[0m: Error 500:\nNo handler found for this request.\n\nCannot process request: 'https://gea.esac.esa.int/data-server/data' (req: Reqid: anonymous1707262210514, retrieval access: DIRECT, retrieval type: XP_CONTINUOUS, compression: null), for user: UwsJobOwner{id='anonymous', name='null', mail='null', authUsername='null', authGroups=[], pseudo='anonymous', session='C74BEE5C2D877A2F56E6DA50245CC517', ip='88.207.16.176', roles=0, parameters=Owner parameters: 6},  due to: No handler found for this request."
     ]
    }
   ],
   "source": [
    "for gid, w_median, w_rrms, ccr in tqdm(uncl[['source_id', 'w_median', 'w_rrms', 'ccr']].to_numpy()):\n",
    "    if 0.7 < w_median < 0.8 and w_rrms < 0.05:\n",
    "        path = f'../figures/roi/ambi5/{cc_region_names[int(ccr-1)]}/'\n",
    "    else:\n",
    "        continue\n",
    "        \n",
    "    if not os.path.exists(path):\n",
    "        os.makedirs(path)\n",
    "        \n",
    "    plot_spectra(gaia_id=gid, savefig=path, mt=DF, q_med=Q_MEDIAN, data_path=DATA_PATH)"
   ]
  },
  {
   "cell_type": "markdown",
   "id": "c7cb9f02",
   "metadata": {},
   "source": [
    "## old (slightly broken)"
   ]
  },
  {
   "cell_type": "code",
   "execution_count": null,
   "id": "229245c3",
   "metadata": {},
   "outputs": [],
   "source": [
    "%%capture\n",
    "# capture the output or else the file becomes too big to commit\n",
    "for gid in var_subset[var_subset.w_rrms > 0.2]['source_id']:\n",
    "    plot_spectra(gaia_id=gid, savefig=True, mt=DF, q_med=Q_MEDIAN)"
   ]
  },
  {
   "cell_type": "code",
   "execution_count": null,
   "id": "d38b51bd",
   "metadata": {},
   "outputs": [],
   "source": [
    "%%capture\n",
    "# capture the output or else the file becomes too big to commit\n",
    "for gid in nonvar_subset[nonvar_subset.w_rrms > 0.2]['source_id']:\n",
    "    plot_spectra(gaia_id=gid, savefig=True, mt=DF, q_med=Q_MEDIAN)"
   ]
  },
  {
   "cell_type": "code",
   "execution_count": 9,
   "id": "63d1f900",
   "metadata": {},
   "outputs": [],
   "source": [
    "%%capture\n",
    "for gid in quasar_subset[quasar_subset.w_rrms > 0.1]['source_id']:\n",
    "    plot_spectra(gaia_id=gid, savefig=True, mt=DF, q_med=Q_MEDIAN)"
   ]
  },
  {
   "cell_type": "code",
   "execution_count": 13,
   "id": "ece7b4ca",
   "metadata": {},
   "outputs": [],
   "source": [
    "%%capture\n",
    "for gid in quasar_subset[quasar_subset.psfMag_r < 18]['source_id']:\n",
    "    plot_spectra(gaia_id=gid, savefig=True, mt=DF, q_med=Q_MEDIAN)"
   ]
  },
  {
   "cell_type": "code",
   "execution_count": null,
   "id": "7d5e790b",
   "metadata": {},
   "outputs": [],
   "source": []
  }
 ],
 "metadata": {
  "kernelspec": {
   "display_name": "Python 3 (ipykernel)",
   "language": "python",
   "name": "python3"
  },
  "language_info": {
   "codemirror_mode": {
    "name": "ipython",
    "version": 3
   },
   "file_extension": ".py",
   "mimetype": "text/x-python",
   "name": "python",
   "nbconvert_exporter": "python",
   "pygments_lexer": "ipython3",
   "version": "3.10.9"
  }
 },
 "nbformat": 4,
 "nbformat_minor": 5
}
