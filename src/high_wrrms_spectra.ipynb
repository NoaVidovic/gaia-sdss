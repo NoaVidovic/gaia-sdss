{
 "cells": [
  {
   "cell_type": "code",
   "execution_count": 5,
   "id": "48fb315a",
   "metadata": {},
   "outputs": [],
   "source": [
    "import matplotlib.pyplot as plt\n",
    "import numpy as np\n",
    "import pandas as pd\n",
    "\n",
    "from show_spectra import plot_spectra"
   ]
  },
  {
   "cell_type": "code",
   "execution_count": 2,
   "id": "60583a65",
   "metadata": {},
   "outputs": [],
   "source": [
    "DF = pd.read_csv('../data/main_table.csv')\n",
    "DF = DF.loc[DF.w_median.notnull()]\n",
    "Q_MEDIAN = np.load('../data/q_median.npy')\n",
    "\n",
    "is_nonvar = DF.nonvar_match_num == 1\n",
    "is_var    = DF.var_match_num == 1\n",
    "is_quasar = DF.quasar_match_num == 1\n",
    "\n",
    "nonvar_subset = DF[is_nonvar & ~is_var & ~is_quasar]\n",
    "var_subset    = DF[~is_nonvar & is_var & ~is_quasar]\n",
    "quasar_subset = DF[~is_nonvar & ~is_var & is_quasar]"
   ]
  },
  {
   "cell_type": "code",
   "execution_count": null,
   "id": "229245c3",
   "metadata": {},
   "outputs": [],
   "source": [
    "%%capture\n",
    "# capture the output or else the file becomes too big to commit\n",
    "for gid in var_subset[var_subset.w_rrms > 0.2]['source_id']:\n",
    "    plot_spectra(gaia_id=gid, savefig=True, mt=DF, q_med=Q_MEDIAN)"
   ]
  },
  {
   "cell_type": "code",
   "execution_count": null,
   "id": "d38b51bd",
   "metadata": {},
   "outputs": [],
   "source": [
    "%%capture\n",
    "# capture the output or else the file becomes too big to commit\n",
    "for gid in nonvar_subset[nonvar_subset.w_rrms > 0.2]['source_id']:\n",
    "    plot_spectra(gaia_id=gid, savefig=True, mt=DF, q_med=Q_MEDIAN)"
   ]
  },
  {
   "cell_type": "code",
   "execution_count": 9,
   "id": "63d1f900",
   "metadata": {},
   "outputs": [],
   "source": [
    "%%capture\n",
    "for gid in quasar_subset[quasar_subset.w_rrms > 0.1]['source_id']:\n",
    "    plot_spectra(gaia_id=gid, savefig=True, mt=DF, q_med=Q_MEDIAN)"
   ]
  },
  {
   "cell_type": "code",
   "execution_count": 13,
   "id": "ece7b4ca",
   "metadata": {},
   "outputs": [],
   "source": [
    "%%capture\n",
    "for gid in quasar_subset[quasar_subset.psfMag_r < 18]['source_id']:\n",
    "    plot_spectra(gaia_id=gid, savefig=True, mt=DF, q_med=Q_MEDIAN)"
   ]
  },
  {
   "cell_type": "code",
   "execution_count": null,
   "id": "7d5e790b",
   "metadata": {},
   "outputs": [],
   "source": []
  }
 ],
 "metadata": {
  "kernelspec": {
   "display_name": "Python 3 (ipykernel)",
   "language": "python",
   "name": "python3"
  },
  "language_info": {
   "codemirror_mode": {
    "name": "ipython",
    "version": 3
   },
   "file_extension": ".py",
   "mimetype": "text/x-python",
   "name": "python",
   "nbconvert_exporter": "python",
   "pygments_lexer": "ipython3",
   "version": "3.10.9"
  }
 },
 "nbformat": 4,
 "nbformat_minor": 5
}
